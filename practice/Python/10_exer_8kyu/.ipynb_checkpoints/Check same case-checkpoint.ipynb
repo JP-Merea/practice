{
 "cells": [
  {
   "cell_type": "markdown",
   "id": "2ae32740",
   "metadata": {},
   "source": [
    "<h1>Write a function that will check if two given characters are the same case.</h1>\n",
    "\n",
    "- 'a' and 'g' returns 1\n",
    "- 'A' and 'C' returns 1\n",
    "- 'b' and 'G' returns 0\n",
    "- 'B' and 'g' returns 0\n",
    "- '0' and '?' returns -1\n",
    "- If any of characters is not a letter, return -1.\n",
    "- If both characters are the same case, return 1.\n",
    "- If both characters are letters and not the same case, return 0."
   ]
  },
  {
   "cell_type": "markdown",
   "id": "c09aa396",
   "metadata": {},
   "source": [
    "# My answer"
   ]
  },
  {
   "cell_type": "code",
   "execution_count": 45,
   "id": "0c0c0705",
   "metadata": {},
   "outputs": [],
   "source": [
    "def same_case(a, b):\n",
    "    return a.isupper() == b.isupper() if a.isalpha() and b.isalpha() else -1"
   ]
  },
  {
   "cell_type": "code",
   "execution_count": 46,
   "id": "f5583f99",
   "metadata": {},
   "outputs": [
    {
     "data": {
      "text/plain": [
       "True"
      ]
     },
     "execution_count": 46,
     "metadata": {},
     "output_type": "execute_result"
    }
   ],
   "source": [
    "#same_case('a', 'g') \n",
    "#same_case('A', 'C') \n",
    "#same_case('b', 'G')\n",
    "#same_case('B', 'g')\n",
    "#same_case('0', '?')\n",
    "#same_case('1', '2.3')\n",
    "same_case('b', 'b')\n",
    "#same_case('a', 'b')"
   ]
  },
  {
   "cell_type": "markdown",
   "id": "b952eb67",
   "metadata": {},
   "source": [
    "# Other answers"
   ]
  },
  {
   "cell_type": "code",
   "execution_count": 47,
   "id": "b34aeb47",
   "metadata": {},
   "outputs": [],
   "source": [
    "def same_case(a, b): \n",
    "    if not (a.isalpha() and b.isalpha()): return -1\n",
    "    return a.isupper() == b.isupper()"
   ]
  },
  {
   "cell_type": "code",
   "execution_count": null,
   "id": "40e82472",
   "metadata": {},
   "outputs": [],
   "source": []
  }
 ],
 "metadata": {
  "kernelspec": {
   "display_name": "Python 3",
   "language": "python",
   "name": "python3"
  },
  "language_info": {
   "codemirror_mode": {
    "name": "ipython",
    "version": 3
   },
   "file_extension": ".py",
   "mimetype": "text/x-python",
   "name": "python",
   "nbconvert_exporter": "python",
   "pygments_lexer": "ipython3",
   "version": "3.8.6"
  },
  "toc": {
   "base_numbering": 1,
   "nav_menu": {},
   "number_sections": true,
   "sideBar": true,
   "skip_h1_title": false,
   "title_cell": "Table of Contents",
   "title_sidebar": "Contents",
   "toc_cell": false,
   "toc_position": {},
   "toc_section_display": true,
   "toc_window_display": false
  }
 },
 "nbformat": 4,
 "nbformat_minor": 5
}
